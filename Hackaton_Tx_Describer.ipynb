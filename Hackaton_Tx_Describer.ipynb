{
  "nbformat": 4,
  "nbformat_minor": 0,
  "metadata": {
    "colab": {
      "provenance": [],
      "include_colab_link": true
    },
    "kernelspec": {
      "name": "python3",
      "display_name": "Python 3"
    },
    "language_info": {
      "name": "python"
    }
  },
  "cells": [
    {
      "cell_type": "markdown",
      "metadata": {
        "id": "view-in-github",
        "colab_type": "text"
      },
      "source": [
        "<a href=\"https://colab.research.google.com/github/jasonbxu/Hackaton_Tx/blob/main/Hackaton_Tx_Describer.ipynb\" target=\"_parent\"><img src=\"https://colab.research.google.com/assets/colab-badge.svg\" alt=\"Open In Colab\"/></a>"
      ]
    },
    {
      "cell_type": "code",
      "execution_count": null,
      "metadata": {
        "colab": {
          "base_uri": "https://localhost:8080/"
        },
        "id": "QQFGPdUjd5wt",
        "outputId": "ab02c401-839b-4907-e7e9-93536ca523fe"
      },
      "outputs": [
        {
          "output_type": "stream",
          "name": "stdout",
          "text": [
            "Looking in indexes: https://pypi.org/simple, https://us-python.pkg.dev/colab-wheels/public/simple/\n",
            "Requirement already satisfied: langchain in /usr/local/lib/python3.10/dist-packages (0.0.180)\n",
            "Requirement already satisfied: openai in /usr/local/lib/python3.10/dist-packages (0.27.7)\n",
            "Requirement already satisfied: PyYAML>=5.4.1 in /usr/local/lib/python3.10/dist-packages (from langchain) (6.0)\n",
            "Requirement already satisfied: SQLAlchemy<3,>=1.4 in /usr/local/lib/python3.10/dist-packages (from langchain) (2.0.10)\n",
            "Requirement already satisfied: aiohttp<4.0.0,>=3.8.3 in /usr/local/lib/python3.10/dist-packages (from langchain) (3.8.4)\n",
            "Requirement already satisfied: async-timeout<5.0.0,>=4.0.0 in /usr/local/lib/python3.10/dist-packages (from langchain) (4.0.2)\n",
            "Requirement already satisfied: dataclasses-json<0.6.0,>=0.5.7 in /usr/local/lib/python3.10/dist-packages (from langchain) (0.5.7)\n",
            "Requirement already satisfied: numexpr<3.0.0,>=2.8.4 in /usr/local/lib/python3.10/dist-packages (from langchain) (2.8.4)\n",
            "Requirement already satisfied: numpy<2,>=1 in /usr/local/lib/python3.10/dist-packages (from langchain) (1.22.4)\n",
            "Requirement already satisfied: openapi-schema-pydantic<2.0,>=1.2 in /usr/local/lib/python3.10/dist-packages (from langchain) (1.2.4)\n",
            "Requirement already satisfied: pydantic<2,>=1 in /usr/local/lib/python3.10/dist-packages (from langchain) (1.10.7)\n",
            "Requirement already satisfied: requests<3,>=2 in /usr/local/lib/python3.10/dist-packages (from langchain) (2.27.1)\n",
            "Requirement already satisfied: tenacity<9.0.0,>=8.1.0 in /usr/local/lib/python3.10/dist-packages (from langchain) (8.2.2)\n",
            "Requirement already satisfied: tqdm in /usr/local/lib/python3.10/dist-packages (from openai) (4.65.0)\n",
            "Requirement already satisfied: attrs>=17.3.0 in /usr/local/lib/python3.10/dist-packages (from aiohttp<4.0.0,>=3.8.3->langchain) (23.1.0)\n",
            "Requirement already satisfied: charset-normalizer<4.0,>=2.0 in /usr/local/lib/python3.10/dist-packages (from aiohttp<4.0.0,>=3.8.3->langchain) (2.0.12)\n",
            "Requirement already satisfied: multidict<7.0,>=4.5 in /usr/local/lib/python3.10/dist-packages (from aiohttp<4.0.0,>=3.8.3->langchain) (6.0.4)\n",
            "Requirement already satisfied: yarl<2.0,>=1.0 in /usr/local/lib/python3.10/dist-packages (from aiohttp<4.0.0,>=3.8.3->langchain) (1.9.2)\n",
            "Requirement already satisfied: frozenlist>=1.1.1 in /usr/local/lib/python3.10/dist-packages (from aiohttp<4.0.0,>=3.8.3->langchain) (1.3.3)\n",
            "Requirement already satisfied: aiosignal>=1.1.2 in /usr/local/lib/python3.10/dist-packages (from aiohttp<4.0.0,>=3.8.3->langchain) (1.3.1)\n",
            "Requirement already satisfied: marshmallow<4.0.0,>=3.3.0 in /usr/local/lib/python3.10/dist-packages (from dataclasses-json<0.6.0,>=0.5.7->langchain) (3.19.0)\n",
            "Requirement already satisfied: marshmallow-enum<2.0.0,>=1.5.1 in /usr/local/lib/python3.10/dist-packages (from dataclasses-json<0.6.0,>=0.5.7->langchain) (1.5.1)\n",
            "Requirement already satisfied: typing-inspect>=0.4.0 in /usr/local/lib/python3.10/dist-packages (from dataclasses-json<0.6.0,>=0.5.7->langchain) (0.9.0)\n",
            "Requirement already satisfied: typing-extensions>=4.2.0 in /usr/local/lib/python3.10/dist-packages (from pydantic<2,>=1->langchain) (4.5.0)\n",
            "Requirement already satisfied: urllib3<1.27,>=1.21.1 in /usr/local/lib/python3.10/dist-packages (from requests<3,>=2->langchain) (1.26.15)\n",
            "Requirement already satisfied: certifi>=2017.4.17 in /usr/local/lib/python3.10/dist-packages (from requests<3,>=2->langchain) (2022.12.7)\n",
            "Requirement already satisfied: idna<4,>=2.5 in /usr/local/lib/python3.10/dist-packages (from requests<3,>=2->langchain) (3.4)\n",
            "Requirement already satisfied: greenlet!=0.4.17 in /usr/local/lib/python3.10/dist-packages (from SQLAlchemy<3,>=1.4->langchain) (2.0.2)\n",
            "Requirement already satisfied: packaging>=17.0 in /usr/local/lib/python3.10/dist-packages (from marshmallow<4.0.0,>=3.3.0->dataclasses-json<0.6.0,>=0.5.7->langchain) (23.1)\n",
            "Requirement already satisfied: mypy-extensions>=0.3.0 in /usr/local/lib/python3.10/dist-packages (from typing-inspect>=0.4.0->dataclasses-json<0.6.0,>=0.5.7->langchain) (1.0.0)\n"
          ]
        }
      ],
      "source": [
        "!pip install langchain openai"
      ]
    },
    {
      "cell_type": "markdown",
      "source": [
        "# Transaction Describer\n",
        "\n",
        "\n",
        "We started exploring how to use langchain + also look into data which can be shared with GPT. \n",
        "\n",
        "\n",
        "We ran into many limitations with how much data we could share due to token limits, so we started with using Phalcon.xyz as our source data, and trying to build a tool that gives gpt access to data from phalcon.xyz"
      ],
      "metadata": {
        "id": "91Q84ADhd8Lu"
      }
    },
    {
      "cell_type": "code",
      "source": [
        "from langchain.agents import initialize_agent, Tool\n",
        "from langchain.tools import BaseTool\n",
        "from langchain.chat_models import ChatOpenAI\n",
        "from langchain.agents import tool\n",
        "import requests\n",
        "import json\n",
        "from langchain.agents import load_tools\n",
        "from langchain.agents import initialize_agent\n",
        "from langchain.agents import AgentType\n",
        "from langchain.llms import OpenAI\n",
        "from langchain.agents import Tool, AgentExecutor, LLMSingleActionAgent, AgentOutputParser\n",
        "from langchain.agents import tool\n",
        "from langchain.schema import HumanMessage, SystemMessage, AIMessage\n",
        "import os "
      ],
      "metadata": {
        "id": "ELNAESnFeKfA"
      },
      "execution_count": null,
      "outputs": []
    },
    {
      "cell_type": "code",
      "source": [
        "os.environ[\"OPENAI_API_KEY\"] = \"redacted" \n"
      ],
      "metadata": {
        "id": "s-RJggwjeW05"
      },
      "execution_count": null,
      "outputs": []
    },
    {
      "cell_type": "code",
      "source": [
        "llm = ChatOpenAI(model='gpt-4', temperature=0)\n",
        "llm(\n",
        "    [\n",
        "        SystemMessage(content=\"You are a blockchain expert and can explain what happens in transactions. You also know that 1 gwei is 0.000000001 units of Matic\"),\n",
        "        HumanMessage(content=\"Hey what is your favourite blockchain\")\n",
        "\n",
        "    ]\n",
        ")"
      ],
      "metadata": {
        "colab": {
          "base_uri": "https://localhost:8080/"
        },
        "id": "BlAIo9bre8uG",
        "outputId": "96ce3f57-7cb9-463a-b58e-4e6ff63de13a"
      },
      "execution_count": null,
      "outputs": [
        {
          "output_type": "execute_result",
          "data": {
            "text/plain": [
              "AIMessage(content=\"As an AI language model, I don't have personal preferences or opinions. However, I can provide you with information about various blockchains and their features. Some popular blockchains include Bitcoin, Ethereum, Binance Smart Chain, Cardano, and Polkadot. Each has its own unique features and use cases. If you have any specific questions about a particular blockchain, feel free to ask!\", additional_kwargs={}, example=False)"
            ]
          },
          "metadata": {},
          "execution_count": 4
        }
      ]
    },
    {
      "cell_type": "markdown",
      "source": [
        " - We first want to connect gpt to tx information data \n",
        " - To do so , we creeate a custom tool, that is able to query Phalcon.xyz API \n",
        " - We choose this API, since it has more data on a transaction then any of our single BQ tables\n",
        " - In the future we could probably connect to our own tables to get this information"
      ],
      "metadata": {
        "id": "OeNodlzAfGbV"
      }
    },
    {
      "cell_type": "code",
      "source": [
        "def phalcon_search(query: str) -> str:\n",
        "    \"\"\"Searches Phalcon for trace info\n",
        "    NOTE: query is the transaction id! \"\"\"\n",
        "  \n",
        "    # query is the txid\n",
        "    # txid = \"0xd0587c2db105bc3d8a989ad80a2ab9667d3338165ab46f8a208af794840354dc\"\n",
        "\n",
        "    json_data = {\n",
        "        'chainID': 137,\n",
        "        'txnHash': query,\n",
        "    }\n",
        "\n",
        "\n",
        "\n",
        "\n",
        "    url = f\"https://explorer.phalcon.xyz/api/v1/tx/mainnet/trace\"\n",
        "\n",
        "    # Make the request\n",
        "    headers = { 'User-Agent': 'Mozilla/5.0 (X11; Ubuntu; Linux x86_64; rv:52.0) Gecko/20100101 Firefox/52.0' }\n",
        "    response = requests.post(url, headers=headers, json=json_data)\n",
        "    data = response.json()\n",
        "    return str(data)\n",
        "ps = Tool( name = \"phalcon_search\", func = phalcon_search, description=\"Useful to get transaction info given txhash. Input is string transaction hash or txid\")"
      ],
      "metadata": {
        "id": "99LxgeAMfAb4"
      },
      "execution_count": null,
      "outputs": []
    },
    {
      "cell_type": "code",
      "source": [
        "tools = [ ps]\n",
        "agent = initialize_agent(tools, llm, agent=AgentType.ZERO_SHOT_REACT_DESCRIPTION, verbose=True)\n"
      ],
      "metadata": {
        "id": "19wWFpz-fOaX"
      },
      "execution_count": null,
      "outputs": []
    },
    {
      "cell_type": "markdown",
      "source": [
        "### Testing with a polygon transaction"
      ],
      "metadata": {
        "id": "_GWTdpVIfRhy"
      }
    },
    {
      "cell_type": "code",
      "source": [
        "agent.run(\"Can you describe what actions happen in the tx 0xd0587c2db105bc3d8a989ad80a2ab9667d3338165ab46f8a208af794840354dc \")"
      ],
      "metadata": {
        "colab": {
          "base_uri": "https://localhost:8080/",
          "height": 463
        },
        "id": "x9qOadtAfgOF",
        "outputId": "57d38279-05d6-411a-cd24-6473f7fa2925"
      },
      "execution_count": null,
      "outputs": [
        {
          "output_type": "stream",
          "name": "stdout",
          "text": [
            "\n",
            "\n",
            "\u001b[1m> Entering new AgentExecutor chain...\u001b[0m\n",
            "\u001b[32;1m\u001b[1;3mI need to search for the transaction information using the given txhash.\n",
            "Action: phalcon_search\n",
            "Action Input: 0xd0587c2db105bc3d8a989ad80a2ab9667d3338165ab46f8a208af794840354dc\u001b[0m\n",
            "Observation: \u001b[36;1m\u001b[1;3m{'dataMap': {'-1': {'invocation': {'address': '0xfe695a47c8ff47217e3d77fe07175603e8afee5f', 'callData': '', 'decodedMethod': None, 'errorInfo': '', 'fromAddress': '', 'gasUsed': 0, 'id': -1, 'methodDecoded': False, 'operation': '', 'output': '', 'revert': False, 'revertMessage': '', 'selector': '', 'status': False, 'value': ''}, 'nodeType': 0}, '0': {'invocation': {'address': '0x68d1e3f802058ce517e9ba871ab182299e74d852', 'callData': '0x0000000000000000000000000000000000000000000000000000000000000040000000000000000000000000000000000000000000000000000000000000024000000000000000000000000068d1e3f802058ce517e9ba871ab182299e74d8520000000000000000000000000000000000000000000000000000000000000000000000000000000000000000fe695a47c8ff47217e3d77fe07175603e8afee5f0000000000000000000000001a4dc751a0c016d2f0c0455b844161e5c2b10eec00000000000000000000000000000000000000000000000000000000646f13b10000000000000000000000000000000000000000000000000000000000000089ef878b3b13198a7118a7da576de245aaae07609d7c63ee437fa624d114c4a9de000000000000000000000000000000000000000000000000000000000000010000000000000000000000000000000000000000000000000000000000000000e000000000000000000000000018e73a5333984549484348a94f4d219f4fab7b81000000000000000000000000000000000000000000000000000000003b9aca000000000000000000000000000000000000000000000000000000000000000000000000000000000000000000000000000000000000000000000000000000000000000000000000000000000000000000000000000000000000000000000000000000000000000000000000000000000000000000000000000000000000000000000000000000000000000000000000000000000000000000000000000000000000000000000000000000000000000000000000000000000000000000000000412df7b0507be14fb6d8871b4b64c343ee2703faf7653aa50ebe6f69c76254d23a2c9db0f8e773c5935e27af153026ebdd9ef37d2369a17ae8529f2bd4c480c6021b00000000000000000000000000000000000000000000000000000000000000', 'decodedMethod': {'callParams': [{'name': 'voucher', 'type': '(address,uint8,address,address,uint64,uint32,bytes32,bytes)', 'value': [{'name': 'target', 'type': 'address', 'value': '0x68d1e3f802058ce517e9ba871ab182299e74d852'}, {'name': 'action', 'type': 'uint8', 'value': '0'}, {'name': 'beneficiary', 'type': 'address', 'value': '0xfe695a47c8ff47217e3d77fe07175603e8afee5f'}, {'name': 'referrer', 'type': 'address', 'value': '0x1a4dc751a0c016d2f0c0455b844161e5c2b10eec'}, {'name': 'expire', 'type': 'uint64', 'value': '1,685,001,137'}, {'name': 'chainId', 'type': 'uint32', 'value': '137'}, {'name': 'voucherCodeHash', 'type': 'bytes32', 'value': '0xef878b3b13198a7118a7da576de245aaae07609d7c63ee437fa624d114c4a9de'}, {'name': 'encodedParams', 'type': 'bytes', 'value': '0x00000000000000000000000018e73a5333984549484348a94f4d219f4fab7b81000000000000000000000000000000000000000000000000000000003b9aca0000000000000000000000000000000000000000000000000000000000000000000000000000000000000000000000000000000000000000000000000000000000000000000000000000000000000000000000000000000000000000000000000000000000000000000000000000000000000000000000000000000000000000000000000000000000000000000000000000000000000000000000000000000000'}]}, {'name': 'signature', 'type': 'bytes', 'value': '0x2df7b0507be14fb6d8871b4b64c343ee2703faf7653aa50ebe6f69c76254d23a2c9db0f8e773c5935e27af153026ebdd9ef37d2369a17ae8529f2bd4c480c6021b'}], 'name': 'useVoucher', 'returnParams': []}, 'errorInfo': '', 'fromAddress': '0xfe695a47c8ff47217e3d77fe07175603e8afee5f', 'gasUsed': 145301, 'id': 0, 'methodDecoded': True, 'operation': 'CALL', 'output': '0x', 'revert': False, 'revertMessage': '', 'selector': '0xdd62a8b4', 'status': True, 'value': '0'}, 'nodeType': 0}, '1': {'invocation': {'address': '0xa0f014328cb057f0d05620d9cf216599f6d246d8', 'callData': '0x0000000000000000000000000000000000000000000000000000000000000040000000000000000000000000000000000000000000000000000000000000024000000000000000000000000068d1e3f802058ce517e9ba871ab182299e74d8520000000000000000000000000000000000000000000000000000000000000000000000000000000000000000fe695a47c8ff47217e3d77fe07175603e8afee5f0000000000000000000000001a4dc751a0c016d2f0c0455b844161e5c2b10eec00000000000000000000000000000000000000000000000000000000646f13b10000000000000000000000000000000000000000000000000000000000000089ef878b3b13198a7118a7da576de245aaae07609d7c63ee437fa624d114c4a9de000000000000000000000000000000000000000000000000000000000000010000000000000000000000000000000000000000000000000000000000000000e000000000000000000000000018e73a5333984549484348a94f4d219f4fab7b81000000000000000000000000000000000000000000000000000000003b9aca000000000000000000000000000000000000000000000000000000000000000000000000000000000000000000000000000000000000000000000000000000000000000000000000000000000000000000000000000000000000000000000000000000000000000000000000000000000000000000000000000000000000000000000000000000000000000000000000000000000000000000000000000000000000000000000000000000000000000000000000000000000000000000000000412df7b0507be14fb6d8871b4b64c343ee2703faf7653aa50ebe6f69c76254d23a2c9db0f8e773c5935e27af153026ebdd9ef37d2369a17ae8529f2bd4c480c6021b00000000000000000000000000000000000000000000000000000000000000', 'decodedMethod': {'callParams': [{'name': 'voucher', 'type': '(address,uint8,address,address,uint64,uint32,bytes32,bytes)', 'value': [{'name': 'target', 'type': 'address', 'value': '0x68d1e3f802058ce517e9ba871ab182299e74d852'}, {'name': 'action', 'type': 'uint8', 'value': '0'}, {'name': 'beneficiary', 'type': 'address', 'value': '0xfe695a47c8ff47217e3d77fe07175603e8afee5f'}, {'name': 'referrer', 'type': 'address', 'value': '0x1a4dc751a0c016d2f0c0455b844161e5c2b10eec'}, {'name': 'expire', 'type': 'uint64', 'value': '1,685,001,137'}, {'name': 'chainId', 'type': 'uint32', 'value': '137'}, {'name': 'voucherCodeHash', 'type': 'bytes32', 'value': '0xef878b3b13198a7118a7da576de245aaae07609d7c63ee437fa624d114c4a9de'}, {'name': 'encodedParams', 'type': 'bytes', 'value': '0x00000000000000000000000018e73a5333984549484348a94f4d219f4fab7b81000000000000000000000000000000000000000000000000000000003b9aca0000000000000000000000000000000000000000000000000000000000000000000000000000000000000000000000000000000000000000000000000000000000000000000000000000000000000000000000000000000000000000000000000000000000000000000000000000000000000000000000000000000000000000000000000000000000000000000000000000000000000000000000000000000000'}]}, {'name': 'signature', 'type': 'bytes', 'value': '0x2df7b0507be14fb6d8871b4b64c343ee2703faf7653aa50ebe6f69c76254d23a2c9db0f8e773c5935e27af153026ebdd9ef37d2369a17ae8529f2bd4c480c6021b'}], 'name': 'useVoucher', 'returnParams': []}, 'errorInfo': '', 'fromAddress': '0x68d1e3f802058ce517e9ba871ab182299e74d852', 'gasUsed': 114110, 'id': 1, 'methodDecoded': True, 'operation': 'DELEGATECALL', 'output': '0x', 'revert': False, 'revertMessage': '', 'selector': '0xdd62a8b4', 'status': True, 'value': '0'}, 'nodeType': 0}, '2': {'invocation': {'address': '0x0000000000000000000000000000000000000001', 'callData': '0xae25dd3ca486934d88e88b7a6c0f9d0a6a8e2c07419bfff982430713000000000000000000000000000000000000000000000000000000000000001b2df7b0507be14fb6d8871b4b64c343ee2703faf7653aa50ebe6f69c76254d23a2c9db0f8e773c5935e27af153026ebdd9ef37d2369a17ae8529f2bd4c480c602', 'decodedMethod': None, 'errorInfo': '', 'fromAddress': '0x68d1e3f802058ce517e9ba871ab182299e74d852', 'gasUsed': 3000, 'id': 2, 'methodDecoded': False, 'operation': 'STATICCALL', 'output': '0x000000000000000000000000c5f825188ad49b13a8c5116ffdab7121b1cef595', 'revert': False, 'revertMessage': '', 'selector': '0x4ed61f6b', 'status': True, 'value': '0'}, 'nodeType': 0}, '3': {'event': {'contract': '0x68d1e3f802058ce517e9ba871ab182299e74d852', 'decodedLog': {'name': 'AffiliateRegistered', 'params': [{'name': 'affiliate', 'type': 'address', 'value': '0xfe695a47c8ff47217e3d77fe07175603e8afee5f'}, {'name': 'referrer', 'type': 'address', 'value': '0x1a4dc751a0c016d2f0c0455b844161e5c2b10eec'}]}, 'id': 3, 'logData': '0x000000000000000000000000fe695a47c8ff47217e3d77fe07175603e8afee5f0000000000000000000000001a4dc751a0c016d2f0c0455b844161e5c2b10eec', 'logDecoded': True, 'operation': 'EVENT', 'revert': False, 'status': True, 'topics': ['0x64e46c273142dc0721ffb916253b218a09a845fd9ea329323097e7e611252ca7']}, 'nodeType': 1}, '4': {'invocation': {'address': '0x18e73a5333984549484348a94f4d219f4fab7b81', 'callData': '0x00000000000000000000000068d1e3f802058ce517e9ba871ab182299e74d852', 'decodedMethod': {'callParams': [{'name': 'account', 'type': 'address', 'value': '0x68d1e3f802058ce517e9ba871ab182299e74d852'}], 'name': 'balanceOf', 'returnParams': [{'name': '', 'type': 'uint256', 'value': '9,592,230,730,055,000'}]}, 'errorInfo': '', 'fromAddress': '0x68d1e3f802058ce517e9ba871ab182299e74d852', 'gasUsed': 3221, 'id': 4, 'methodDecoded': True, 'operation': 'STATICCALL', 'output': '0x000000000000000000000000000000000000000000000000002214154144bd58', 'revert': False, 'revertMessage': '', 'selector': '0x70a08231', 'status': True, 'value': '0'}, 'nodeType': 0}, '5': {'invocation': {'address': '0x18e73a5333984549484348a94f4d219f4fab7b81', 'callData': '0x000000000000000000000000fe695a47c8ff47217e3d77fe07175603e8afee5f000000000000000000000000000000000000000000000000000000003b9aca00', 'decodedMethod': {'callParams': [{'name': 'to', 'type': 'address', 'value': '0xfe695a47c8ff47217e3d77fe07175603e8afee5f'}, {'name': 'amount', 'type': 'uint256', 'value': '1,000,000,000'}], 'name': 'transfer', 'returnParams': [{'name': '', 'type': 'bool', 'value': True}]}, 'errorInfo': '', 'fromAddress': '0x68d1e3f802058ce517e9ba871ab182299e74d852', 'gasUsed': 15983, 'id': 5, 'methodDecoded': True, 'operation': 'CALL', 'output': '0x0000000000000000000000000000000000000000000000000000000000000001', 'revert': False, 'revertMessage': '', 'selector': '0xa9059cbb', 'status': True, 'value': '0'}, 'nodeType': 0}, '6': {'event': {'contract': '0x18e73a5333984549484348a94f4d219f4fab7b81', 'decodedLog': {'name': 'Transfer', 'params': [{'name': 'from', 'type': 'address', 'value': '0x68d1e3f802058ce517e9ba871ab182299e74d852'}, {'name': 'to', 'type': 'address', 'value': '0xfe695a47c8ff47217e3d77fe07175603e8afee5f'}, {'name': 'value', 'type': 'uint256', 'value': '1,000,000,000'}]}, 'id': 6, 'logData': '0x000000000000000000000000000000000000000000000000000000003b9aca00', 'logDecoded': True, 'operation': 'EVENT', 'revert': False, 'status': True, 'topics': ['0xddf252ad1be2c89b69c2b068fc378daa952ba7f163c4a11628f55a4df523b3ef', '0x00000000000000000000000068d1e3f802058ce517e9ba871ab182299e74d852', '0x000000000000000000000000fe695a47c8ff47217e3d77fe07175603e8afee5f']}, 'nodeType': 1}, '7': {'event': {'contract': '0x68d1e3f802058ce517e9ba871ab182299e74d852', 'decodedLog': {'name': 'VoucherUsed', 'params': [{'name': 'wallet', 'type': 'address', 'value': '0xfe695a47c8ff47217e3d77fe07175603e8afee5f'}, {'name': 'action', 'type': 'uint8', 'value': '0'}, {'name': 'voucherCodeHash', 'type': 'bytes32', 'value': '0xef878b3b13198a7118a7da576de245aaae07609d7c63ee437fa624d114c4a9de'}, {'name': 'chainId', 'type': 'uint32', 'value': '137'}]}, 'id': 7, 'logData': '0x000000000000000000000000fe695a47c8ff47217e3d77fe07175603e8afee5f0000000000000000000000000000000000000000000000000000000000000000ef878b3b13198a7118a7da576de245aaae07609d7c63ee437fa624d114c4a9de0000000000000000000000000000000000000000000000000000000000000089', 'logDecoded': True, 'operation': 'EVENT', 'revert': False, 'status': True, 'topics': ['0x7697a9d8fa2cf7dd6cb14a34b76d2e6577843156db8afa185d9181e28f607ba9']}, 'nodeType': 1}, '8': {'event': {'contract': '0x0000000000000000000000000000000000001010', 'decodedLog': {'name': 'LogFeeTransfer', 'params': [{'name': 'token', 'type': 'address', 'value': '0x0000000000000000000000000000000000001010'}, {'name': 'f', 'type': 'address', 'value': '0xfe695a47c8ff47217e3d77fe07175603e8afee5f'}, {'name': 'to', 'type': 'address', 'value': '0x959a4d857b7071c38878beb9dc77051b5fed1dfd'}, {'name': 'amount', 'type': 'uint256', 'value': '4,359,030,000,000,000'}, {'name': 'input1', 'type': 'uint256', 'value': '927,537,693,954,247,415'}, {'name': 'input2', 'type': 'uint256', 'value': '24,061,394,327,368,520,266,845'}, {'name': 'output1', 'type': 'uint256', 'value': '923,178,663,954,247,415'}, {'name': 'output2', 'type': 'uint256', 'value': '24,061,398,686,398,520,266,845'}]}, 'id': 8, 'logData': '0x000000000000000000000000000000000000000000000000000f7c83c2b71c000000000000000000000000000000000000000000000000000cdf469e4bed8af70000000000000000000000000000000000000000000005185eecc202c7b1745d0000000000000000000000000000000000000000000000000ccfca1a89366ef70000000000000000000000000000000000000000000005185efc3e868a68905d', 'logDecoded': True, 'operation': 'EVENT', 'revert': False, 'status': True, 'topics': ['0x4dfe1bbbcf077ddc3e01291eea2d5c70c2b422b415d95645b9adcfd678cb1d63', '0x0000000000000000000000000000000000000000000000000000000000001010', '0x000000000000000000000000fe695a47c8ff47217e3d77fe07175603e8afee5f', '0x000000000000000000000000959a4d857b7071c38878beb9dc77051b5fed1dfd']}, 'nodeType': 1}}, 'gasFlame': [{'children': [{'children': [{'children': [], 'depth': 0, 'name': 'Initial Gas', 'value': 26172}, {'children': [{'children': [{'children': [], 'depth': 2, 'name': '0x4ed61f6b', 'value': 3000}, {'children': [], 'depth': 2, 'name': 'balanceOf', 'value': 3221}, {'children': [], 'depth': 2, 'name': 'transfer', 'value': 15983}], 'depth': 1, 'name': 'useVoucher', 'value': 114110}], 'depth': 0, 'name': 'Executed Gas', 'value': 119129}], 'depth': -1, 'name': 'Actual Gas Used', 'value': 145301}, {'children': [], 'depth': -1, 'name': 'Refunded Gas', 'value': 0}], 'depth': -2, 'name': 'Total Gas', 'value': 145301}], 'mainTrace': [{'children': [{'children': [{'children': [{'children': [], 'depth': 2, 'id': 2, 'order': 2}, {'children': [], 'depth': 2, 'id': 3, 'order': 3}, {'children': [], 'depth': 2, 'id': 4, 'order': 4}, {'children': [{'children': [], 'depth': 3, 'id': 6, 'order': 6}], 'depth': 2, 'id': 5, 'order': 5}, {'children': [], 'depth': 2, 'id': 7, 'order': 7}], 'depth': 1, 'id': 1, 'order': 1}], 'depth': 0, 'id': 0, 'order': 0}, {'children': [], 'depth': 0, 'id': 8, 'order': 8}], 'depth': -1, 'id': -1, 'order': -1}], 'mainTraceNodeCount': 9, 'parentIdMap': {'0': -1, '1': 0, '2': 1, '3': 1, '4': 1, '5': 1, '6': 5, '7': 1, '8': -1}, 'tidyTrace': [{'children': [{'children': [{'children': [{'children': [], 'depth': 2, 'id': 3, 'order': 2}, {'children': [{'children': [], 'depth': 3, 'id': 6, 'order': 4}], 'depth': 2, 'id': 5, 'order': 3}, {'children': [], 'depth': 2, 'id': 7, 'order': 5}], 'depth': 1, 'id': 1, 'order': 1}], 'depth': 0, 'id': 0, 'order': 0}, {'children': [], 'depth': 0, 'id': 8, 'order': 6}], 'depth': -1, 'id': -1, 'order': -1}], 'tidyTraceNodeCount': 7}\u001b[0m\n",
            "Thought:\u001b[32;1m\u001b[1;3mI now know the actions that happened in the transaction.\n",
            "Final Answer: In the transaction 0xd0587c2db105bc3d8a989ad80a2ab9667d3338165ab46f8a208af794840354dc, the following actions took place:\n",
            "\n",
            "1. A voucher was used with the method \"useVoucher\".\n",
            "2. The \"balanceOf\" method was called to check the balance of an account.\n",
            "3. A transfer of 1,000,000,000 tokens was made.\n",
            "4. An \"AffiliateRegistered\" event was emitted.\n",
            "5. A \"Transfer\" event was emitted.\n",
            "6. A \"VoucherUsed\" event was emitted.\n",
            "7. A \"LogFeeTransfer\" event was emitted.\u001b[0m\n",
            "\n",
            "\u001b[1m> Finished chain.\u001b[0m\n"
          ]
        },
        {
          "output_type": "execute_result",
          "data": {
            "text/plain": [
              "'In the transaction 0xd0587c2db105bc3d8a989ad80a2ab9667d3338165ab46f8a208af794840354dc, the following actions took place:\\n\\n1. A voucher was used with the method \"useVoucher\".\\n2. The \"balanceOf\" method was called to check the balance of an account.\\n3. A transfer of 1,000,000,000 tokens was made.\\n4. An \"AffiliateRegistered\" event was emitted.\\n5. A \"Transfer\" event was emitted.\\n6. A \"VoucherUsed\" event was emitted.\\n7. A \"LogFeeTransfer\" event was emitted.'"
            ],
            "application/vnd.google.colaboratory.intrinsic+json": {
              "type": "string"
            }
          },
          "metadata": {},
          "execution_count": 8
        }
      ]
    },
    {
      "cell_type": "markdown",
      "source": [
        "- Tried multiple transactions, \n",
        "- We seem to hit some limitation, speciifcally with the token limit! \n",
        "- We hit similar issues when trying to feed it more information from BQ, in order to go through this limit\n",
        "- We can limit ourself to only gas related data in the response (done below)"
      ],
      "metadata": {
        "id": "O8qQZuB9fYxJ"
      }
    },
    {
      "cell_type": "code",
      "source": [
        "def phalcon_search(query: str) -> str:\n",
        "    \"\"\"Searches Phalcon for gas info\n",
        "    Most gas information is in gwei and to conver this to Matic \n",
        "    you need to multiply by 0.000000001\n",
        "    NOTE: query is the transaction id! \"\"\"\n",
        "  \n",
        "    # query is the txid\n",
        "    # txid = \"0xd0587c2db105bc3d8a989ad80a2ab9667d3338165ab46f8a208af794840354dc\"\n",
        "\n",
        "    json_data = {\n",
        "        'chainID': 137,\n",
        "        'txnHash': query,\n",
        "    }\n",
        "\n",
        "\n",
        "\n",
        "\n",
        "    url = f\"https://explorer.phalcon.xyz/api/v1/tx/mainnet/trace\"\n",
        "\n",
        "    # Make the request\n",
        "    headers = { 'User-Agent': 'Mozilla/5.0 (X11; Ubuntu; Linux x86_64; rv:52.0) Gecko/20100101 Firefox/52.0' }\n",
        "    response = requests.post(url, headers=headers, json=json_data)\n",
        "    data = response.json()\n",
        "    data.pop('dataMap')\n",
        "    \n",
        "    return str(data)\n",
        "ps = Tool( name = \"phalcon_search\", func = phalcon_search, description=\"Useful to get transaction info given txhash. Input is string transaction hash or txid\")"
      ],
      "metadata": {
        "id": "lmu8coCKfdZd"
      },
      "execution_count": null,
      "outputs": []
    },
    {
      "cell_type": "code",
      "source": [
        "tools = [ ps]\n",
        "agent = initialize_agent(tools, llm, agent=AgentType.ZERO_SHOT_REACT_DESCRIPTION, verbose=True)\n"
      ],
      "metadata": {
        "id": "bC2BYxz_fu-X"
      },
      "execution_count": null,
      "outputs": []
    },
    {
      "cell_type": "code",
      "source": [
        "agent.run(\"Can you find the gas fees of the following tx 0xd0587c2db105bc3d8a989ad80a2ab9667d3338165ab46f8a208af794840354dc \")"
      ],
      "metadata": {
        "colab": {
          "base_uri": "https://localhost:8080/",
          "height": 259
        },
        "id": "k430hVIOfwoG",
        "outputId": "5a190567-c980-42dc-9141-bbd0efac7b4e"
      },
      "execution_count": null,
      "outputs": [
        {
          "output_type": "stream",
          "name": "stdout",
          "text": [
            "\n",
            "\n",
            "\u001b[1m> Entering new AgentExecutor chain...\u001b[0m\n",
            "\u001b[32;1m\u001b[1;3mI need to search for the transaction info using the given txhash.\n",
            "Action: phalcon_search\n",
            "Action Input: 0xd0587c2db105bc3d8a989ad80a2ab9667d3338165ab46f8a208af794840354dc\u001b[0m\n",
            "Observation: \u001b[36;1m\u001b[1;3m{'gasFlame': [{'children': [{'children': [{'children': [], 'depth': 0, 'name': 'Initial Gas', 'value': 26172}, {'children': [{'children': [{'children': [], 'depth': 2, 'name': '0x4ed61f6b', 'value': 3000}, {'children': [], 'depth': 2, 'name': 'balanceOf', 'value': 3221}, {'children': [], 'depth': 2, 'name': 'transfer', 'value': 15983}], 'depth': 1, 'name': 'useVoucher', 'value': 114110}], 'depth': 0, 'name': 'Executed Gas', 'value': 119129}], 'depth': -1, 'name': 'Actual Gas Used', 'value': 145301}, {'children': [], 'depth': -1, 'name': 'Refunded Gas', 'value': 0}], 'depth': -2, 'name': 'Total Gas', 'value': 145301}], 'mainTrace': [{'children': [{'children': [{'children': [{'children': [], 'depth': 2, 'id': 2, 'order': 2}, {'children': [], 'depth': 2, 'id': 3, 'order': 3}, {'children': [], 'depth': 2, 'id': 4, 'order': 4}, {'children': [{'children': [], 'depth': 3, 'id': 6, 'order': 6}], 'depth': 2, 'id': 5, 'order': 5}, {'children': [], 'depth': 2, 'id': 7, 'order': 7}], 'depth': 1, 'id': 1, 'order': 1}], 'depth': 0, 'id': 0, 'order': 0}, {'children': [], 'depth': 0, 'id': 8, 'order': 8}], 'depth': -1, 'id': -1, 'order': -1}], 'mainTraceNodeCount': 9, 'parentIdMap': {'0': -1, '1': 0, '2': 1, '3': 1, '4': 1, '5': 1, '6': 5, '7': 1, '8': -1}, 'tidyTrace': [{'children': [{'children': [{'children': [{'children': [], 'depth': 2, 'id': 3, 'order': 2}, {'children': [{'children': [], 'depth': 3, 'id': 6, 'order': 4}], 'depth': 2, 'id': 5, 'order': 3}, {'children': [], 'depth': 2, 'id': 7, 'order': 5}], 'depth': 1, 'id': 1, 'order': 1}], 'depth': 0, 'id': 0, 'order': 0}, {'children': [], 'depth': 0, 'id': 8, 'order': 6}], 'depth': -1, 'id': -1, 'order': -1}], 'tidyTraceNodeCount': 7}\u001b[0m\n",
            "Thought:\u001b[32;1m\u001b[1;3mI found the transaction info and can now determine the gas fees.\n",
            "Final Answer: The gas fees for the transaction 0xd0587c2db105bc3d8a989ad80a2ab9667d3338165ab46f8a208af794840354dc are 145,301 gas.\u001b[0m\n",
            "\n",
            "\u001b[1m> Finished chain.\u001b[0m\n"
          ]
        },
        {
          "output_type": "execute_result",
          "data": {
            "text/plain": [
              "'The gas fees for the transaction 0xd0587c2db105bc3d8a989ad80a2ab9667d3338165ab46f8a208af794840354dc are 145,301 gas.'"
            ],
            "application/vnd.google.colaboratory.intrinsic+json": {
              "type": "string"
            }
          },
          "metadata": {},
          "execution_count": 11
        }
      ]
    },
    {
      "cell_type": "code",
      "source": [
        "agent.run(\"Can you describe what happens in the transaction 0xd0587c2db105bc3d8a989ad80a2ab9667d3338165ab46f8a208af794840354dc \")"
      ],
      "metadata": {
        "colab": {
          "base_uri": "https://localhost:8080/",
          "height": 315
        },
        "id": "nIAVMhVJfybI",
        "outputId": "6f82f642-5bd4-4618-8a8f-2c1e8b034b8f"
      },
      "execution_count": null,
      "outputs": [
        {
          "output_type": "stream",
          "name": "stdout",
          "text": [
            "\n",
            "\n",
            "\u001b[1m> Entering new AgentExecutor chain...\u001b[0m\n",
            "\u001b[32;1m\u001b[1;3mI need to look up the transaction details using the given transaction hash.\n",
            "Action: phalcon_search\n",
            "Action Input: 0xd0587c2db105bc3d8a989ad80a2ab9667d3338165ab46f8a208af794840354dc\u001b[0m\n",
            "Observation: \u001b[36;1m\u001b[1;3m{'gasFlame': [{'children': [{'children': [{'children': [], 'depth': 0, 'name': 'Initial Gas', 'value': 26172}, {'children': [{'children': [{'children': [], 'depth': 2, 'name': '0x4ed61f6b', 'value': 3000}, {'children': [], 'depth': 2, 'name': 'balanceOf', 'value': 3221}, {'children': [], 'depth': 2, 'name': 'transfer', 'value': 15983}], 'depth': 1, 'name': 'useVoucher', 'value': 114110}], 'depth': 0, 'name': 'Executed Gas', 'value': 119129}], 'depth': -1, 'name': 'Actual Gas Used', 'value': 145301}, {'children': [], 'depth': -1, 'name': 'Refunded Gas', 'value': 0}], 'depth': -2, 'name': 'Total Gas', 'value': 145301}], 'mainTrace': [{'children': [{'children': [{'children': [{'children': [], 'depth': 2, 'id': 2, 'order': 2}, {'children': [], 'depth': 2, 'id': 3, 'order': 3}, {'children': [], 'depth': 2, 'id': 4, 'order': 4}, {'children': [{'children': [], 'depth': 3, 'id': 6, 'order': 6}], 'depth': 2, 'id': 5, 'order': 5}, {'children': [], 'depth': 2, 'id': 7, 'order': 7}], 'depth': 1, 'id': 1, 'order': 1}], 'depth': 0, 'id': 0, 'order': 0}, {'children': [], 'depth': 0, 'id': 8, 'order': 8}], 'depth': -1, 'id': -1, 'order': -1}], 'mainTraceNodeCount': 9, 'parentIdMap': {'0': -1, '1': 0, '2': 1, '3': 1, '4': 1, '5': 1, '6': 5, '7': 1, '8': -1}, 'tidyTrace': [{'children': [{'children': [{'children': [{'children': [], 'depth': 2, 'id': 3, 'order': 2}, {'children': [{'children': [], 'depth': 3, 'id': 6, 'order': 4}], 'depth': 2, 'id': 5, 'order': 3}, {'children': [], 'depth': 2, 'id': 7, 'order': 5}], 'depth': 1, 'id': 1, 'order': 1}], 'depth': 0, 'id': 0, 'order': 0}, {'children': [], 'depth': 0, 'id': 8, 'order': 6}], 'depth': -1, 'id': -1, 'order': -1}], 'tidyTraceNodeCount': 7}\u001b[0m\n",
            "Thought:\u001b[32;1m\u001b[1;3mI now know the transaction details.\n",
            "Final Answer: In the transaction 0xd0587c2db105bc3d8a989ad80a2ab9667d3338165ab46f8a208af794840354dc, the initial gas was 26172, and the actual gas used was 145301. The transaction involved a function called \"useVoucher\" which had a gas usage of 114110. This function called three other functions: \"0x4ed61f6b\" with a gas usage of 3000, \"balanceOf\" with a gas usage of 3221, and \"transfer\" with a gas usage of 15983. There was no refunded gas in this transaction.\u001b[0m\n",
            "\n",
            "\u001b[1m> Finished chain.\u001b[0m\n"
          ]
        },
        {
          "output_type": "execute_result",
          "data": {
            "text/plain": [
              "'In the transaction 0xd0587c2db105bc3d8a989ad80a2ab9667d3338165ab46f8a208af794840354dc, the initial gas was 26172, and the actual gas used was 145301. The transaction involved a function called \"useVoucher\" which had a gas usage of 114110. This function called three other functions: \"0x4ed61f6b\" with a gas usage of 3000, \"balanceOf\" with a gas usage of 3221, and \"transfer\" with a gas usage of 15983. There was no refunded gas in this transaction.'"
            ],
            "application/vnd.google.colaboratory.intrinsic+json": {
              "type": "string"
            }
          },
          "metadata": {},
          "execution_count": 12
        }
      ]
    },
    {
      "cell_type": "code",
      "source": [
        "agent.run(\"Can you descibe what happens in the transaction 0xadacc3f0dc3e9a545cda006d783f96dadacb73f173e2e45025bbf2d75bfca4ea\")"
      ],
      "metadata": {
        "colab": {
          "base_uri": "https://localhost:8080/",
          "height": 315
        },
        "id": "T0QiehIFiqyS",
        "outputId": "7b293ba2-aeca-411f-98b5-a56a052bc987"
      },
      "execution_count": null,
      "outputs": [
        {
          "output_type": "stream",
          "name": "stdout",
          "text": [
            "\n",
            "\n",
            "\u001b[1m> Entering new AgentExecutor chain...\u001b[0m\n",
            "\u001b[32;1m\u001b[1;3mI need to look up the transaction details using the given transaction hash.\n",
            "Action: phalcon_search\n",
            "Action Input: 0xadacc3f0dc3e9a545cda006d783f96dadacb73f173e2e45025bbf2d75bfca4ea\u001b[0m\n",
            "Observation: \u001b[36;1m\u001b[1;3m{'gasFlame': [{'children': [{'children': [{'children': [], 'depth': 0, 'name': 'Initial Gas', 'value': 25328}, {'children': [{'children': [{'children': [{'children': [], 'depth': 3, 'name': 'fee', 'value': 251}, {'children': [], 'depth': 3, 'name': 'slot0', 'value': 2696}, {'children': [], 'depth': 3, 'name': 'tickSpacing', 'value': 279}, {'children': [], 'depth': 3, 'name': 'liquidity', 'value': 2428}, {'children': [], 'depth': 3, 'name': 'tickBitmap', 'value': 2525}], 'depth': 2, 'name': 'quote', 'value': 23840}], 'depth': 1, 'name': '0xee300b66', 'value': 27492}, {'children': [{'children': [], 'depth': 2, 'name': 'getReserves', 'value': 2504}], 'depth': 1, 'name': '0xee300b66', 'value': 7291}, {'children': [{'children': [], 'depth': 2, 'name': 'getPoolTokens', 'value': 22431}, {'children': [], 'depth': 2, 'name': 'getPool', 'value': 927}, {'children': [], 'depth': 2, 'name': 'getNormalizedWeights', 'value': 1280}, {'children': [], 'depth': 2, 'name': 'getSwapFeePercentage', 'value': 2418}, {'children': [{'children': [{'children': [], 'depth': 4, 'name': 'decimals', 'value': 2428}], 'depth': 3, 'name': 'decimals', 'value': 7776}, {'children': [{'children': [], 'depth': 4, 'name': 'decimals', 'value': 2382}], 'depth': 3, 'name': 'decimals', 'value': 7542}], 'depth': 2, 'name': 'calcOutGivenIn', 'value': 46217}], 'depth': 1, 'name': '0xee300b66', 'value': 88416}], 'depth': 0, 'name': 'Executed Gas', 'value': 146936}], 'depth': -1, 'name': 'Actual Gas Used', 'value': 172264}, {'children': [], 'depth': -1, 'name': 'Refunded Gas', 'value': 0}], 'depth': -2, 'name': 'Total Gas', 'value': 172264}], 'mainTrace': [{'children': [{'children': [{'children': [{'children': [{'children': [], 'depth': 3, 'id': 3, 'order': 3}, {'children': [], 'depth': 3, 'id': 4, 'order': 4}, {'children': [], 'depth': 3, 'id': 5, 'order': 5}, {'children': [], 'depth': 3, 'id': 6, 'order': 6}, {'children': [], 'depth': 3, 'id': 7, 'order': 7}], 'depth': 2, 'id': 2, 'order': 2}], 'depth': 1, 'id': 1, 'order': 1}, {'children': [{'children': [], 'depth': 2, 'id': 9, 'order': 9}], 'depth': 1, 'id': 8, 'order': 8}, {'children': [{'children': [], 'depth': 2, 'id': 11, 'order': 11}, {'children': [], 'depth': 2, 'id': 12, 'order': 12}, {'children': [], 'depth': 2, 'id': 13, 'order': 13}, {'children': [], 'depth': 2, 'id': 14, 'order': 14}, {'children': [{'children': [{'children': [], 'depth': 4, 'id': 17, 'order': 17}], 'depth': 3, 'id': 16, 'order': 16}, {'children': [{'children': [], 'depth': 4, 'id': 19, 'order': 19}], 'depth': 3, 'id': 18, 'order': 18}], 'depth': 2, 'id': 15, 'order': 15}], 'depth': 1, 'id': 10, 'order': 10}], 'depth': 0, 'id': 0, 'order': 0}, {'children': [], 'depth': 0, 'id': 20, 'order': 20}], 'depth': -1, 'id': -1, 'order': -1}], 'mainTraceNodeCount': 21, 'parentIdMap': {'0': -1, '1': 0, '10': 0, '11': 10, '12': 10, '13': 10, '14': 10, '15': 10, '16': 15, '17': 16, '18': 15, '19': 18, '2': 1, '20': -1, '3': 2, '4': 2, '5': 2, '6': 2, '7': 2, '8': 0, '9': 8}, 'tidyTrace': [{'children': [{'children': [{'children': [], 'depth': 1, 'id': 1, 'order': 1}, {'children': [], 'depth': 1, 'id': 8, 'order': 2}, {'children': [], 'depth': 1, 'id': 10, 'order': 3}], 'depth': 0, 'id': 0, 'order': 0}, {'children': [], 'depth': 0, 'id': 20, 'order': 4}], 'depth': -1, 'id': -1, 'order': -1}], 'tidyTraceNodeCount': 5}\u001b[0m\n",
            "Thought:\u001b[32;1m\u001b[1;3mI now know the transaction details.\n",
            "Final Answer: In the transaction 0xadacc3f0dc3e9a545cda006d783f96dadacb73f173e2e45025bbf2d75bfca4ea, the total gas used was 172,264. The transaction involved multiple function calls, including getReserves, getPoolTokens, getPool, getNormalizedWeights, getSwapFeePercentage, and calcOutGivenIn. The transaction also involved various sub-calls, such as decimals and fee calculations. The executed gas for this transaction was 146,936, and no gas was refunded.\u001b[0m\n",
            "\n",
            "\u001b[1m> Finished chain.\u001b[0m\n"
          ]
        },
        {
          "output_type": "execute_result",
          "data": {
            "text/plain": [
              "'In the transaction 0xadacc3f0dc3e9a545cda006d783f96dadacb73f173e2e45025bbf2d75bfca4ea, the total gas used was 172,264. The transaction involved multiple function calls, including getReserves, getPoolTokens, getPool, getNormalizedWeights, getSwapFeePercentage, and calcOutGivenIn. The transaction also involved various sub-calls, such as decimals and fee calculations. The executed gas for this transaction was 146,936, and no gas was refunded.'"
            ],
            "application/vnd.google.colaboratory.intrinsic+json": {
              "type": "string"
            }
          },
          "metadata": {},
          "execution_count": 13
        }
      ]
    },
    {
      "cell_type": "code",
      "source": [
        "agent.run(\"Can you descibe what happens in the transaction 0xa8d64af8aa6720999638bfca6dc93f31f4f46e4ad6215af6f513cfef3355e61f\")"
      ],
      "metadata": {
        "colab": {
          "base_uri": "https://localhost:8080/",
          "height": 685
        },
        "id": "p9Z3846yi8OX",
        "outputId": "a2c5fa4c-d065-407d-feab-865c8303d476"
      },
      "execution_count": null,
      "outputs": [
        {
          "output_type": "stream",
          "name": "stdout",
          "text": [
            "\n",
            "\n",
            "\u001b[1m> Entering new AgentExecutor chain...\u001b[0m\n",
            "\u001b[32;1m\u001b[1;3mI need to look up the transaction details using the phalcon_search tool.\n",
            "Action: phalcon_search\n",
            "Action Input: 0xa8d64af8aa6720999638bfca6dc93f31f4f46e4ad6215af6f513cfef3355e61f\u001b[0m\n",
            "Observation: \u001b[36;1m\u001b[1;3m{'gasFlame': [{'children': [{'children': [{'children': [], 'depth': 0, 'name': 'Initial Gas', 'value': 24952}, {'children': [{'children': [], 'depth': 1, 'name': 'deposit', 'value': 23977}, {'children': [], 'depth': 1, 'name': 'transfer', 'value': 23195}, {'children': [{'children': [], 'depth': 2, 'name': 'transfer', 'value': 30338}, {'children': [], 'depth': 2, 'name': 'balanceOf', 'value': 2564}, {'children': [{'children': [], 'depth': 3, 'name': 'transfer', 'value': 6095}], 'depth': 2, 'name': 'uniswapV3SwapCallback', 'value': 8401}, {'children': [], 'depth': 2, 'name': 'balanceOf', 'value': 564}], 'depth': 1, 'name': 'swap', 'value': 85564}, {'children': [{'children': [{'children': [], 'depth': 3, 'name': 'transfer', 'value': 36773}], 'depth': 2, 'name': 'transfer', 'value': 41944}, {'children': [], 'depth': 2, 'name': 'balanceOf', 'value': 2608}, {'children': [{'children': [], 'depth': 3, 'name': 'transfer', 'value': 6438}], 'depth': 2, 'name': 'uniswapV3SwapCallback', 'value': 8806}, {'children': [], 'depth': 2, 'name': 'balanceOf', 'value': 608}], 'depth': 1, 'name': 'swap', 'value': 88555}], 'depth': 0, 'name': 'Executed Gas', 'value': 251430}], 'depth': -1, 'name': 'Actual Gas Used', 'value': 221106}, {'children': [], 'depth': -1, 'name': 'Refunded Gas', 'value': 55276}], 'depth': -2, 'name': 'Total Gas', 'value': 276382}], 'mainTrace': [{'children': [{'children': [], 'depth': 0, 'id': 0, 'order': 0}, {'children': [{'children': [], 'depth': 1, 'id': 2, 'order': 2}, {'children': [{'children': [], 'depth': 2, 'id': 4, 'order': 4}], 'depth': 1, 'id': 3, 'order': 3}, {'children': [{'children': [], 'depth': 2, 'id': 6, 'order': 6}], 'depth': 1, 'id': 5, 'order': 5}, {'children': [{'children': [{'children': [], 'depth': 3, 'id': 9, 'order': 9}], 'depth': 2, 'id': 8, 'order': 8}, {'children': [], 'depth': 2, 'id': 10, 'order': 10}, {'children': [{'children': [{'children': [], 'depth': 4, 'id': 13, 'order': 13}], 'depth': 3, 'id': 12, 'order': 12}], 'depth': 2, 'id': 11, 'order': 11}, {'children': [], 'depth': 2, 'id': 14, 'order': 14}, {'children': [], 'depth': 2, 'id': 15, 'order': 15}], 'depth': 1, 'id': 7, 'order': 7}, {'children': [{'children': [{'children': [{'children': [], 'depth': 4, 'id': 19, 'order': 19}], 'depth': 3, 'id': 18, 'order': 18}], 'depth': 2, 'id': 17, 'order': 17}, {'children': [], 'depth': 2, 'id': 20, 'order': 20}, {'children': [{'children': [{'children': [], 'depth': 4, 'id': 23, 'order': 23}], 'depth': 3, 'id': 22, 'order': 22}], 'depth': 2, 'id': 21, 'order': 21}, {'children': [], 'depth': 2, 'id': 24, 'order': 24}, {'children': [], 'depth': 2, 'id': 25, 'order': 25}], 'depth': 1, 'id': 16, 'order': 16}], 'depth': 0, 'id': -100, 'order': 1}, {'children': [], 'depth': 0, 'id': 26, 'order': 26}], 'depth': -1, 'id': -1, 'order': -1}], 'mainTraceNodeCount': 27, 'parentIdMap': {'-100': -1, '0': -1, '10': 7, '11': 7, '12': 11, '13': 12, '14': 7, '15': 7, '16': -100, '17': 16, '18': 17, '19': 18, '2': -100, '20': 16, '21': 16, '22': 21, '23': 22, '24': 16, '25': 16, '26': -1, '3': -100, '4': 3, '5': -100, '6': 5, '7': -100, '8': 7, '9': 8}, 'tidyTrace': [{'children': [{'children': [], 'depth': 0, 'id': 0, 'order': 0}, {'children': [{'children': [], 'depth': 1, 'id': 2, 'order': 2}, {'children': [{'children': [], 'depth': 2, 'id': 4, 'order': 4}], 'depth': 1, 'id': 3, 'order': 3}, {'children': [{'children': [], 'depth': 2, 'id': 6, 'order': 6}], 'depth': 1, 'id': 5, 'order': 5}, {'children': [{'children': [{'children': [], 'depth': 3, 'id': 9, 'order': 9}], 'depth': 2, 'id': 8, 'order': 8}, {'children': [{'children': [{'children': [], 'depth': 4, 'id': 13, 'order': 12}], 'depth': 3, 'id': 12, 'order': 11}], 'depth': 2, 'id': 11, 'order': 10}, {'children': [], 'depth': 2, 'id': 15, 'order': 13}], 'depth': 1, 'id': 7, 'order': 7}, {'children': [{'children': [{'children': [{'children': [], 'depth': 4, 'id': 19, 'order': 17}], 'depth': 3, 'id': 18, 'order': 16}], 'depth': 2, 'id': 17, 'order': 15}, {'children': [{'children': [{'children': [], 'depth': 4, 'id': 23, 'order': 20}], 'depth': 3, 'id': 22, 'order': 19}], 'depth': 2, 'id': 21, 'order': 18}, {'children': [], 'depth': 2, 'id': 25, 'order': 21}], 'depth': 1, 'id': 16, 'order': 14}], 'depth': 0, 'id': -100, 'order': 1}, {'children': [], 'depth': 0, 'id': 26, 'order': 22}], 'depth': -1, 'id': -1, 'order': -1}], 'tidyTraceNodeCount': 23}\u001b[0m\n",
            "Thought:\u001b[32;1m\u001b[1;3mI now know the details of the transaction.\n",
            "Final Answer: In the transaction 0xa8d64af8aa6720999638bfca6dc93f31f4f46e4ad6215af6f513cfef3355e61f, the following events occur:\n",
            "\n",
            "1. Initial Gas is set to 24952.\n",
            "2. A deposit is made, consuming 23977 gas.\n",
            "3. A transfer is executed, consuming 23195 gas.\n",
            "4. A swap is performed, which involves:\n",
            "   a. Another transfer, consuming 30338 gas.\n",
            "   b. A balanceOf call, consuming 2564 gas.\n",
            "   c. A uniswapV3SwapCallback, which includes another transfer, consuming 6095 gas.\n",
            "   d. Another balanceOf call, consuming 564 gas.\n",
            "5. Another swap is performed, which involves:\n",
            "   a. A transfer, consuming 41944 gas.\n",
            "   b. A balanceOf call, consuming 2608 gas.\n",
            "   c. A uniswapV3SwapCallback, which includes another transfer, consuming 6438 gas.\n",
            "   d. Another balanceOf call, consuming 608 gas.\n",
            "\n",
            "The total gas used for this transaction is 276382, with 221106 being the actual gas used and 55276 being the refunded gas.\u001b[0m\n",
            "\n",
            "\u001b[1m> Finished chain.\u001b[0m\n"
          ]
        },
        {
          "output_type": "execute_result",
          "data": {
            "text/plain": [
              "'In the transaction 0xa8d64af8aa6720999638bfca6dc93f31f4f46e4ad6215af6f513cfef3355e61f, the following events occur:\\n\\n1. Initial Gas is set to 24952.\\n2. A deposit is made, consuming 23977 gas.\\n3. A transfer is executed, consuming 23195 gas.\\n4. A swap is performed, which involves:\\n   a. Another transfer, consuming 30338 gas.\\n   b. A balanceOf call, consuming 2564 gas.\\n   c. A uniswapV3SwapCallback, which includes another transfer, consuming 6095 gas.\\n   d. Another balanceOf call, consuming 564 gas.\\n5. Another swap is performed, which involves:\\n   a. A transfer, consuming 41944 gas.\\n   b. A balanceOf call, consuming 2608 gas.\\n   c. A uniswapV3SwapCallback, which includes another transfer, consuming 6438 gas.\\n   d. Another balanceOf call, consuming 608 gas.\\n\\nThe total gas used for this transaction is 276382, with 221106 being the actual gas used and 55276 being the refunded gas.'"
            ],
            "application/vnd.google.colaboratory.intrinsic+json": {
              "type": "string"
            }
          },
          "metadata": {},
          "execution_count": 14
        }
      ]
    },
    {
      "cell_type": "code",
      "source": [
        "agent.run(\"Can you descibe which address were involved in this tx and tokens involved 0xa8d64af8aa6720999638bfca6dc93f31f4f46e4ad6215af6f513cfef3355e61f\")"
      ],
      "metadata": {
        "colab": {
          "base_uri": "https://localhost:8080/",
          "height": 296
        },
        "id": "7JyXYV_XjRYn",
        "outputId": "2a55b887-aa28-43fa-c835-8a977c74ad46"
      },
      "execution_count": null,
      "outputs": [
        {
          "output_type": "stream",
          "name": "stdout",
          "text": [
            "\n",
            "\n",
            "\u001b[1m> Entering new AgentExecutor chain...\u001b[0m\n",
            "\u001b[32;1m\u001b[1;3mI need to find the transaction information for the given txhash.\n",
            "Action: phalcon_search\n",
            "Action Input: 0xa8d64af8aa6720999638bfca6dc93f31f4f46e4ad6215af6f513cfef3355e61f\u001b[0m\n",
            "Observation: \u001b[36;1m\u001b[1;3m{'gasFlame': [{'children': [{'children': [{'children': [], 'depth': 0, 'name': 'Initial Gas', 'value': 24952}, {'children': [{'children': [], 'depth': 1, 'name': 'deposit', 'value': 23977}, {'children': [], 'depth': 1, 'name': 'transfer', 'value': 23195}, {'children': [{'children': [], 'depth': 2, 'name': 'transfer', 'value': 30338}, {'children': [], 'depth': 2, 'name': 'balanceOf', 'value': 2564}, {'children': [{'children': [], 'depth': 3, 'name': 'transfer', 'value': 6095}], 'depth': 2, 'name': 'uniswapV3SwapCallback', 'value': 8401}, {'children': [], 'depth': 2, 'name': 'balanceOf', 'value': 564}], 'depth': 1, 'name': 'swap', 'value': 85564}, {'children': [{'children': [{'children': [], 'depth': 3, 'name': 'transfer', 'value': 36773}], 'depth': 2, 'name': 'transfer', 'value': 41944}, {'children': [], 'depth': 2, 'name': 'balanceOf', 'value': 2608}, {'children': [{'children': [], 'depth': 3, 'name': 'transfer', 'value': 6438}], 'depth': 2, 'name': 'uniswapV3SwapCallback', 'value': 8806}, {'children': [], 'depth': 2, 'name': 'balanceOf', 'value': 608}], 'depth': 1, 'name': 'swap', 'value': 88555}], 'depth': 0, 'name': 'Executed Gas', 'value': 251430}], 'depth': -1, 'name': 'Actual Gas Used', 'value': 221106}, {'children': [], 'depth': -1, 'name': 'Refunded Gas', 'value': 55276}], 'depth': -2, 'name': 'Total Gas', 'value': 276382}], 'mainTrace': [{'children': [{'children': [], 'depth': 0, 'id': 0, 'order': 0}, {'children': [{'children': [], 'depth': 1, 'id': 2, 'order': 2}, {'children': [{'children': [], 'depth': 2, 'id': 4, 'order': 4}], 'depth': 1, 'id': 3, 'order': 3}, {'children': [{'children': [], 'depth': 2, 'id': 6, 'order': 6}], 'depth': 1, 'id': 5, 'order': 5}, {'children': [{'children': [{'children': [], 'depth': 3, 'id': 9, 'order': 9}], 'depth': 2, 'id': 8, 'order': 8}, {'children': [], 'depth': 2, 'id': 10, 'order': 10}, {'children': [{'children': [{'children': [], 'depth': 4, 'id': 13, 'order': 13}], 'depth': 3, 'id': 12, 'order': 12}], 'depth': 2, 'id': 11, 'order': 11}, {'children': [], 'depth': 2, 'id': 14, 'order': 14}, {'children': [], 'depth': 2, 'id': 15, 'order': 15}], 'depth': 1, 'id': 7, 'order': 7}, {'children': [{'children': [{'children': [{'children': [], 'depth': 4, 'id': 19, 'order': 19}], 'depth': 3, 'id': 18, 'order': 18}], 'depth': 2, 'id': 17, 'order': 17}, {'children': [], 'depth': 2, 'id': 20, 'order': 20}, {'children': [{'children': [{'children': [], 'depth': 4, 'id': 23, 'order': 23}], 'depth': 3, 'id': 22, 'order': 22}], 'depth': 2, 'id': 21, 'order': 21}, {'children': [], 'depth': 2, 'id': 24, 'order': 24}, {'children': [], 'depth': 2, 'id': 25, 'order': 25}], 'depth': 1, 'id': 16, 'order': 16}], 'depth': 0, 'id': -100, 'order': 1}, {'children': [], 'depth': 0, 'id': 26, 'order': 26}], 'depth': -1, 'id': -1, 'order': -1}], 'mainTraceNodeCount': 27, 'parentIdMap': {'-100': -1, '0': -1, '10': 7, '11': 7, '12': 11, '13': 12, '14': 7, '15': 7, '16': -100, '17': 16, '18': 17, '19': 18, '2': -100, '20': 16, '21': 16, '22': 21, '23': 22, '24': 16, '25': 16, '26': -1, '3': -100, '4': 3, '5': -100, '6': 5, '7': -100, '8': 7, '9': 8}, 'tidyTrace': [{'children': [{'children': [], 'depth': 0, 'id': 0, 'order': 0}, {'children': [{'children': [], 'depth': 1, 'id': 2, 'order': 2}, {'children': [{'children': [], 'depth': 2, 'id': 4, 'order': 4}], 'depth': 1, 'id': 3, 'order': 3}, {'children': [{'children': [], 'depth': 2, 'id': 6, 'order': 6}], 'depth': 1, 'id': 5, 'order': 5}, {'children': [{'children': [{'children': [], 'depth': 3, 'id': 9, 'order': 9}], 'depth': 2, 'id': 8, 'order': 8}, {'children': [{'children': [{'children': [], 'depth': 4, 'id': 13, 'order': 12}], 'depth': 3, 'id': 12, 'order': 11}], 'depth': 2, 'id': 11, 'order': 10}, {'children': [], 'depth': 2, 'id': 15, 'order': 13}], 'depth': 1, 'id': 7, 'order': 7}, {'children': [{'children': [{'children': [{'children': [], 'depth': 4, 'id': 19, 'order': 17}], 'depth': 3, 'id': 18, 'order': 16}], 'depth': 2, 'id': 17, 'order': 15}, {'children': [{'children': [{'children': [], 'depth': 4, 'id': 23, 'order': 20}], 'depth': 3, 'id': 22, 'order': 19}], 'depth': 2, 'id': 21, 'order': 18}, {'children': [], 'depth': 2, 'id': 25, 'order': 21}], 'depth': 1, 'id': 16, 'order': 14}], 'depth': 0, 'id': -100, 'order': 1}, {'children': [], 'depth': 0, 'id': 26, 'order': 22}], 'depth': -1, 'id': -1, 'order': -1}], 'tidyTraceNodeCount': 23}\u001b[0m\n",
            "Thought:\u001b[32;1m\u001b[1;3mI now have the transaction information for the given txhash.\n",
            "Final Answer: The transaction with hash 0xa8d64af8aa6720999638bfca6dc93f31f4f46e4ad6215af6f513cfef3355e61f involved multiple addresses and tokens. The transaction had a total gas of 276,382, with an actual gas used of 221,106 and a refunded gas of 55,276. The main trace of the transaction consists of 27 nodes, with various depths and orders.\u001b[0m\n",
            "\n",
            "\u001b[1m> Finished chain.\u001b[0m\n"
          ]
        },
        {
          "output_type": "execute_result",
          "data": {
            "text/plain": [
              "'The transaction with hash 0xa8d64af8aa6720999638bfca6dc93f31f4f46e4ad6215af6f513cfef3355e61f involved multiple addresses and tokens. The transaction had a total gas of 276,382, with an actual gas used of 221,106 and a refunded gas of 55,276. The main trace of the transaction consists of 27 nodes, with various depths and orders.'"
            ],
            "application/vnd.google.colaboratory.intrinsic+json": {
              "type": "string"
            }
          },
          "metadata": {},
          "execution_count": 15
        }
      ]
    },
    {
      "cell_type": "markdown",
      "source": [
        "# Future (Incomplete due to time limitations)\n",
        "\n",
        "- More help with prompting so it descibes the different units such as gas in Matic or native tokens\n",
        "- More help with training so it understand how to describe certain transactions\n",
        "- Chunking data so we don’t have to limit the data shared with GPT , (we had to remove trace information in our case to be compatible with most transactions)\n",
        "- Add more layers, where one of the layers could classify the behaviour first as maybe a DEX Trade, and have GPT describe the transaction given access to the classifier tool.\n"
      ],
      "metadata": {
        "id": "bGJEj6hAfztO"
      }
    },
    {
      "cell_type": "code",
      "source": [],
      "metadata": {
        "id": "RGw-aW9if0eg"
      },
      "execution_count": null,
      "outputs": []
    }
  ]
}
